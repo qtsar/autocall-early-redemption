{
 "cells": [
  {
   "cell_type": "code",
   "execution_count": 1,
   "outputs": [],
   "source": [
    "import pandas as pd\n",
    "import numpy as np\n",
    "import os\n",
    "from pandas.tseries.offsets import DateOffset"
   ],
   "metadata": {
    "collapsed": false
   }
  },
  {
   "cell_type": "code",
   "execution_count": 2,
   "outputs": [],
   "source": [
    "files = os.listdir('data/currencies')"
   ],
   "metadata": {
    "collapsed": false
   }
  },
  {
   "cell_type": "code",
   "execution_count": 3,
   "outputs": [],
   "source": [
    "cur = 'USD'"
   ],
   "metadata": {
    "collapsed": false
   }
  },
  {
   "cell_type": "code",
   "execution_count": 4,
   "outputs": [],
   "source": [
    "df = pd.read_csv('data/currencies/' + f'{cur}.csv', sep=';', index_col=0)\n",
    "df.fillna(method='ffill', inplace=True)"
   ],
   "metadata": {
    "collapsed": false
   }
  },
  {
   "cell_type": "code",
   "execution_count": null,
   "outputs": [],
   "source": [
    "df.to_csv('data/currencies/' + f'{cur}.csv', sep=';')"
   ],
   "metadata": {
    "collapsed": false
   }
  },
  {
   "cell_type": "code",
   "execution_count": null,
   "outputs": [],
   "source": [
    "dfs[14]"
   ],
   "metadata": {
    "collapsed": false
   }
  },
  {
   "cell_type": "code",
   "execution_count": null,
   "outputs": [],
   "source": [
    "dfs[1].index"
   ],
   "metadata": {
    "collapsed": false
   }
  },
  {
   "cell_type": "code",
   "execution_count": null,
   "outputs": [],
   "source": [
    "df = pd.read_csv('data/underlying-available.csv', sep=';')\n",
    "func = lambda x: ''.join([x['label'], ' (', x['exchange'], ')'])\n",
    "df['label'] = df.apply(func, axis=1)"
   ],
   "metadata": {
    "collapsed": false
   }
  },
  {
   "cell_type": "code",
   "execution_count": null,
   "outputs": [],
   "source": [],
   "metadata": {
    "collapsed": false
   }
  },
  {
   "cell_type": "code",
   "execution_count": null,
   "outputs": [],
   "source": [
    "AVAILABLE_UNDERLYINGS = df[['label', 'value']].to_dict('records')"
   ],
   "metadata": {
    "collapsed": false
   }
  },
  {
   "cell_type": "code",
   "execution_count": null,
   "outputs": [],
   "source": [
    "date = '2023-05-01'\n",
    "underlyings = ['ISXEOD5', 'MMM']\n",
    "currency = 'USD'\n",
    "term = 120\n",
    "\n",
    "und = underlyings[0]\n"
   ],
   "metadata": {
    "collapsed": false
   }
  },
  {
   "cell_type": "code",
   "execution_count": null,
   "outputs": [],
   "source": [
    "und_df = pd.read_csv(f'data/underlying/{und}.csv', sep=';', parse_dates=['date'], dayfirst=True, index_col=0)\n",
    "und_df"
   ],
   "metadata": {
    "collapsed": false
   }
  },
  {
   "cell_type": "code",
   "execution_count": null,
   "outputs": [],
   "source": [
    "filt_unds = []\n",
    "spot_prices = []\n",
    "\n",
    "for und in underlyings:\n",
    "    und_df = pd.read_csv(f'data/underlying/{und}.csv', sep=';',\n",
    "                         parse_dates=['date'], dayfirst=True)\n",
    "\n",
    "    und_df = und_df.loc[(und_df['date'] <= date) & (und_df['date'] >= pd.to_datetime(date) - DateOffset(months=term // 2))].set_index('date')\n",
    "\n",
    "    filt_und = und_df[:date]\n",
    "    spot_prices.append(float(und_df.iloc[-1]))\n",
    "    filt_unds.append(filt_und)\n",
    "\n",
    "spot_prices = np.array(spot_prices)\n",
    "df = pd.concat(filt_unds, axis=1)\n",
    "\n",
    "daily_returns = df.pct_change().dropna(axis=0)\n",
    "monthly_returns = df.resample('M').first().pct_change().dropna(axis=0)\n"
   ],
   "metadata": {
    "collapsed": false
   }
  },
  {
   "cell_type": "code",
   "execution_count": null,
   "outputs": [],
   "source": [
    "mu = (df.iloc[-1] / df.iloc[0])**(24/term) - 1\n",
    "print(mu.to_numpy())"
   ],
   "metadata": {
    "collapsed": false
   }
  },
  {
   "cell_type": "code",
   "execution_count": null,
   "outputs": [],
   "source": [
    "volatilities = monthly_returns.std(axis=0) * 12**0.5\n",
    "volatilities"
   ],
   "metadata": {
    "collapsed": false
   }
  },
  {
   "cell_type": "code",
   "execution_count": null,
   "outputs": [],
   "source": [
    "daily_returns_corr = daily_returns.corr()\n",
    "daily_returns_corr"
   ],
   "metadata": {
    "collapsed": false
   }
  },
  {
   "cell_type": "code",
   "execution_count": null,
   "outputs": [],
   "source": [
    "monthly_returns.corr()"
   ],
   "metadata": {
    "collapsed": false
   }
  },
  {
   "cell_type": "code",
   "execution_count": null,
   "outputs": [],
   "source": [
    "\n"
   ],
   "metadata": {
    "collapsed": false
   }
  },
  {
   "cell_type": "code",
   "execution_count": null,
   "outputs": [],
   "source": [
    "df = pd.read_csv(f'data/currencies/{currency}.csv', sep=';',\n",
    "                 parse_dates=['date'], dayfirst=True, index_col=0)\n",
    "row = df[:date].iloc[-1].dropna() / 100"
   ],
   "metadata": {
    "collapsed": false
   }
  },
  {
   "cell_type": "code",
   "execution_count": null,
   "outputs": [],
   "source": [
    "tenors = np.array([int(x) for x in row.index]) / 12\n",
    "tenors"
   ],
   "metadata": {
    "collapsed": false
   }
  },
  {
   "cell_type": "code",
   "execution_count": null,
   "outputs": [],
   "source": [
    "values = row.to_numpy()\n",
    "values"
   ],
   "metadata": {
    "collapsed": false
   }
  },
  {
   "cell_type": "code",
   "execution_count": null,
   "outputs": [],
   "source": [
    "from finance_data import get_asset_data, get_risk_free_rate_data, get_price_paths_e"
   ],
   "metadata": {
    "collapsed": false
   }
  },
  {
   "cell_type": "code",
   "execution_count": null,
   "outputs": [],
   "source": [
    "get_asset_data(['XOM', 'MMM', 'AAPL'], '2023-05-01', 120)"
   ],
   "metadata": {
    "collapsed": false
   }
  },
  {
   "cell_type": "code",
   "execution_count": null,
   "outputs": [],
   "source": [
    "get_risk_free_rate_data('USD', '2023-05-01')"
   ],
   "metadata": {
    "collapsed": false
   }
  },
  {
   "cell_type": "code",
   "execution_count": null,
   "outputs": [],
   "source": [
    "from utilities import parse_num_array"
   ],
   "metadata": {
    "collapsed": false
   }
  },
  {
   "cell_type": "code",
   "execution_count": null,
   "outputs": [],
   "source": [
    "type(parse_num_array('100,'))"
   ],
   "metadata": {
    "collapsed": false
   }
  },
  {
   "cell_type": "code",
   "execution_count": null,
   "outputs": [],
   "source": [
    "get_price_paths_e(0, 0, 0, 0, 0, 0, 0).shape"
   ],
   "metadata": {
    "collapsed": false
   }
  },
  {
   "cell_type": "code",
   "execution_count": null,
   "outputs": [],
   "source": [
    "lst = [1, 2, 3, 4, 5]\n",
    "\n",
    "func = lambda x1, x2, x3, x4: x1+x2+x3+x4\n",
    "\n",
    "func(*lst[:-1])\n"
   ],
   "metadata": {
    "collapsed": false
   }
  },
  {
   "cell_type": "code",
   "execution_count": null,
   "outputs": [],
   "source": [
    "inc = 23.75\n",
    "start = 1190\n",
    "end = 1926.25\n",
    "\n",
    "while start <= end:\n",
    "    print(start, sep=', ')\n",
    "    start += inc"
   ],
   "metadata": {
    "collapsed": false
   }
  },
  {
   "cell_type": "code",
   "execution_count": null,
   "outputs": [],
   "source": [
    "def get_available_underlyings(str_path):\n",
    "    df = pd.read_csv(str_path, sep=sep)\n",
    "    func = lambda x: ''.join([x['label'], ' (', x['exchange'], ')'])\n",
    "    df['label'] = df.apply(func, axis=1)\n",
    "\n",
    "    return df[['label', 'value']].sort_values('label').to_dict('records')\n",
    "\n",
    "\n",
    "AVAILABLE_UNDERLYINGS = get_available_underlyings('data/underlying-available.csv')"
   ],
   "metadata": {
    "collapsed": false
   }
  },
  {
   "cell_type": "code",
   "execution_count": 15,
   "outputs": [],
   "source": [
    "df = pd.read_csv('data/underlyings-available.csv', sep=';')\n",
    "df.rename(columns={'long_name': 'label'}, inplace=True)"
   ],
   "metadata": {
    "collapsed": false
   }
  },
  {
   "cell_type": "code",
   "execution_count": 16,
   "outputs": [
    {
     "data": {
      "text/plain": "{'ORA.PA': 0.07,\n 'TTE.PA': 0.0511,\n 'ASML.AS': 0.0162,\n 'NVDA': 0.00059999997,\n 'JNJ': 0.0292,\n 'MRK.DE': 0.013300001,\n 'PFE': 0.042,\n 'SAN.PA': 0.0356,\n 'GEBN.SW': 0.024500001,\n 'GIVN.SW': 0.0211,\n 'SIKA.SW': 0.013200001,\n 'SREN.SW': 0.0648,\n 'ZURN.SW': 0.0559,\n 'CFR.SW': 0.0152,\n 'NESN.SW': 0.025799999,\n 'NOVN.SW': 0.0344,\n 'ROG.SW': 0.0339,\n 'SIE.DE': 0.028800001,\n 'INGA.AS': 0.048600003,\n 'CS.PA': 0.0581,\n 'HELN.SW': 0.0465,\n 'SLHN.SW': 0.0547,\n 'OR.PA': 0.0139,\n 'MC.PA': 0.0137,\n 'MSFT': 0.0089,\n 'CVX': 0.0377,\n 'LONN.SW': 0.006,\n 'PGHN.SW': 0.043,\n 'UBSG.SW': 0.0275,\n 'EMSN.SW': 0.0199,\n 'SGSN.SW': 0.0397,\n 'LOGN.SW': 0.0183,\n 'SCMN.SW': 0.0363,\n 'AAL.L': 0.0683,\n 'META': 0.0,\n 'BNP.PA': 0.067600004,\n 'STMPA.PA': 0.0057,\n 'FRE.DE': 0.036,\n 'ZAL.DE': 0.0,\n 'GLE.PA': 0.0762,\n 'MBG.DE': 0.078,\n 'RMS.PA': 0.0064999997,\n 'AMZN': 0.0,\n 'ACA.PA': 0.0971,\n 'LI.PA': 0.0793,\n 'KO': 0.028900001,\n 'DSY.PA': 0.0056}"
     },
     "execution_count": 16,
     "metadata": {},
     "output_type": "execute_result"
    }
   ],
   "source": [
    "SYMBOL_DIV_YIELDS = df.set_index('value')['div_yield'].to_dict()\n",
    "SYMBOL_DIV_YIELDS"
   ],
   "metadata": {
    "collapsed": false
   }
  },
  {
   "cell_type": "code",
   "execution_count": 17,
   "outputs": [
    {
     "data": {
      "text/plain": "[{'label': 'ASML Holding', 'value': 'ASML.AS'},\n {'label': 'AXA', 'value': 'CS.PA'},\n {'label': 'Amazon.com', 'value': 'AMZN'},\n {'label': 'Anglo American', 'value': 'AAL.L'},\n {'label': 'BNP Paribas', 'value': 'BNP.PA'},\n {'label': 'Chevron', 'value': 'CVX'},\n {'label': 'Coca-Cola', 'value': 'KO'},\n {'label': 'Compagnie Financière Richemont', 'value': 'CFR.SW'},\n {'label': 'Crédit Agricole', 'value': 'ACA.PA'},\n {'label': 'Dassault Systèmes', 'value': 'DSY.PA'},\n {'label': 'EMS-CHEMIE HOLDING', 'value': 'EMSN.SW'},\n {'label': 'Fresenius SE & Co.', 'value': 'FRE.DE'},\n {'label': 'Geberit', 'value': 'GEBN.SW'},\n {'label': 'Givaudan', 'value': 'GIVN.SW'},\n {'label': 'Helvetia Holding', 'value': 'HELN.SW'},\n {'label': 'Hermès International', 'value': 'RMS.PA'},\n {'label': 'ING Groep', 'value': 'INGA.AS'},\n {'label': 'Johnson & Johnson', 'value': 'JNJ'},\n {'label': 'Klépierre', 'value': 'LI.PA'},\n {'label': \"L'Oréal\", 'value': 'OR.PA'},\n {'label': 'LVMH Moët Hennessy - Louis Vuitton', 'value': 'MC.PA'},\n {'label': 'Logitech', 'value': 'LOGN.SW'},\n {'label': 'Lonza Group', 'value': 'LONN.SW'},\n {'label': 'Mercedes-Benz Group', 'value': 'MBG.DE'},\n {'label': 'Merck', 'value': 'MRK.DE'},\n {'label': 'Meta Platforms', 'value': 'META'},\n {'label': 'Microsoft', 'value': 'MSFT'},\n {'label': 'NVIDIA', 'value': 'NVDA'},\n {'label': 'Nestlé', 'value': 'NESN.SW'},\n {'label': 'Novartis', 'value': 'NOVN.SW'},\n {'label': 'Orange', 'value': 'ORA.PA'},\n {'label': 'Partners Group Holding', 'value': 'PGHN.SW'},\n {'label': 'Pfizer', 'value': 'PFE'},\n {'label': 'Roche Holding', 'value': 'ROG.SW'},\n {'label': 'SGS', 'value': 'SGSN.SW'},\n {'label': 'STMicroelectronics', 'value': 'STMPA.PA'},\n {'label': 'Sanofi', 'value': 'SAN.PA'},\n {'label': 'Siemens', 'value': 'SIE.DE'},\n {'label': 'Sika', 'value': 'SIKA.SW'},\n {'label': 'Société Générale', 'value': 'GLE.PA'},\n {'label': 'Swiss Life Holding', 'value': 'SLHN.SW'},\n {'label': 'Swiss Re', 'value': 'SREN.SW'},\n {'label': 'Swisscom', 'value': 'SCMN.SW'},\n {'label': 'TotalEnergies', 'value': 'TTE.PA'},\n {'label': 'UBS Group', 'value': 'UBSG.SW'},\n {'label': 'Zalando', 'value': 'ZAL.DE'},\n {'label': 'Zurich Insurance Group', 'value': 'ZURN.SW'}]"
     },
     "execution_count": 17,
     "metadata": {},
     "output_type": "execute_result"
    }
   ],
   "source": [
    "LABELS_SYMBOLS = df[['label', 'value']].sort_values('label').to_dict('records')\n",
    "LABELS_SYMBOLS"
   ],
   "metadata": {
    "collapsed": false
   }
  },
  {
   "cell_type": "code",
   "execution_count": 18,
   "outputs": [],
   "source": [
    "yield_maturities = np.array([1/12, 2/12, 3/12, 6/12, 1, 2, 3, 5, 7, 10, 20, 30])\n",
    "yeilds = np.array([0.15,0.27,0.50,0.93,1.52,2.13,2.32,2.34,2.37,2.32,2.65,2.52]).astype(float)/100\n"
   ],
   "metadata": {
    "collapsed": false
   }
  },
  {
   "cell_type": "code",
   "execution_count": 20,
   "outputs": [
    {
     "data": {
      "text/plain": "NelsonSiegelSvenssonCurve(beta0=0.02839153220222084, beta1=-0.029279498974272837, beta2=0.025428221778323684, beta3=-0.014174074291466623, tau1=0.9922984048369404, tau2=4.781409382841036)"
     },
     "execution_count": 20,
     "metadata": {},
     "output_type": "execute_result"
    }
   ],
   "source": [
    "from nelson_siegel_svensson.calibrate import calibrate_ns_ols, calibrate_nss_ols\n",
    "\n",
    "curve_fit, status = calibrate_nss_ols(yield_maturities,yeilds)\n",
    "curve_fit"
   ],
   "metadata": {
    "collapsed": false
   }
  },
  {
   "cell_type": "code",
   "execution_count": null,
   "outputs": [],
   "source": [
    "curvefit(yield_maturities)"
   ],
   "metadata": {
    "collapsed": false
   }
  },
  {
   "cell_type": "code",
   "execution_count": 26,
   "outputs": [
    {
     "data": {
      "text/plain": "<Figure size 640x480 with 1 Axes>",
      "image/png": "[encoded data removed]"
     },
     "metadata": {},
     "output_type": "display_data"
    }
   ],
   "source": [
    "import matplotlib.pyplot as plt\n",
    "plt.scatter(yield_maturities, yeilds)\n",
    "plt.plot(np.arange(0,40,0.01), curve_fit(np.arange(0,40,0.01)))\n",
    "plt.plot(np.arange(0,40,0.01), np.interp(np.arange(0,40,0.01), yield_maturities,yeilds))\n",
    "plt.show()"
   ],
   "metadata": {
    "collapsed": false
   }
  },
  {
   "cell_type": "code",
   "execution_count": 27,
   "outputs": [],
   "source": [
    "principal = 1000\n",
    "coupon_payment = 2.875/100 * principal"
   ],
   "metadata": {
    "collapsed": false
   }
  },
  {
   "cell_type": "code",
   "execution_count": 61,
   "outputs": [],
   "source": [
    "obs_dates = [0.25, 0.5, 0.75, 1., 1.25, 1.5, 1.75, 2.,\n",
    "             2.25, 2.5, 2.75, 3., 3.25, 3.5, 3.75, 4., 4.25, 4.5, 4.75, 5. ]"
   ],
   "metadata": {
    "collapsed": false
   }
  },
  {
   "cell_type": "code",
   "execution_count": 62,
   "outputs": [],
   "source": [
    "discount_rates = [0.0476, 0.0486, 0.048, 0.0474, 0.046025, 0.04465, 0.043275, 0.0419, 0.04105, 0.0402, 0.03935, 0.0385, 0.038175, 0.03785, 0.037525, 0.0372, 0.036875, 0.03655, 0.036225, 0.0359 ]"
   ],
   "metadata": {
    "collapsed": false
   }
  },
  {
   "cell_type": "code",
   "execution_count": 55,
   "outputs": [
    {
     "data": {
      "text/plain": "(20, 20)"
     },
     "execution_count": 55,
     "metadata": {},
     "output_type": "execute_result"
    }
   ],
   "source": [
    "len(obs_dates), len(discount_rates)"
   ],
   "metadata": {
    "collapsed": false
   }
  },
  {
   "cell_type": "code",
   "execution_count": 56,
   "outputs": [],
   "source": [
    "discount_rates = np.array(discount_rates) * obs_dates[0]"
   ],
   "metadata": {
    "collapsed": false
   }
  },
  {
   "cell_type": "code",
   "execution_count": 57,
   "outputs": [],
   "source": [
    "sum = 0\n",
    "for t, r in enumerate(discount_rates):\n",
    "    sum += coupon_payment/(1+r)**(t+1)"
   ],
   "metadata": {
    "collapsed": false
   }
  },
  {
   "cell_type": "code",
   "execution_count": 58,
   "outputs": [
    {
     "data": {
      "text/plain": "520.1564398794643"
     },
     "execution_count": 58,
     "metadata": {},
     "output_type": "execute_result"
    }
   ],
   "source": [
    "sum"
   ],
   "metadata": {
    "collapsed": false
   }
  },
  {
   "cell_type": "code",
   "execution_count": 63,
   "outputs": [
    {
     "data": {
      "text/plain": "838.3219444065707"
     },
     "execution_count": 63,
     "metadata": {},
     "output_type": "execute_result"
    }
   ],
   "source": [
    "principal/(1+(discount_rates[-1]-0.1))**obs_dates[-1]"
   ],
   "metadata": {
    "collapsed": false
   }
  },
  {
   "cell_type": "code",
   "execution_count": 46,
   "outputs": [
    {
     "data": {
      "text/plain": "array([0.08333333, 0.16666667, 0.25      , 0.33333333, 0.41666667,\n       0.5       , 0.58333333, 0.66666667, 0.75      , 0.83333333,\n       0.91666667, 1.        , 1.08333333, 1.16666667, 1.25      ,\n       1.33333333, 1.41666667, 1.5       , 1.58333333, 1.66666667,\n       1.75      , 1.83333333, 1.91666667, 2.        , 2.08333333,\n       2.16666667, 2.25      , 2.33333333, 2.41666667, 2.5       ,\n       2.58333333, 2.66666667, 2.75      , 2.83333333, 2.91666667,\n       3.        , 3.08333333, 3.16666667, 3.25      , 3.33333333,\n       3.41666667, 3.5       , 3.58333333, 3.66666667, 3.75      ,\n       3.83333333, 3.91666667, 4.        , 4.08333333, 4.16666667,\n       4.25      , 4.33333333, 4.41666667, 4.5       , 4.58333333,\n       4.66666667, 4.75      , 4.83333333, 4.91666667, 5.        ])"
     },
     "execution_count": 46,
     "metadata": {},
     "output_type": "execute_result"
    }
   ],
   "source": [
    "obs_dates = np.arange(0, 5+1/12, 1/12)[1:]\n",
    "obs_dates"
   ],
   "metadata": {
    "collapsed": false
   }
  },
  {
   "cell_type": "code",
   "execution_count": 48,
   "outputs": [
    {
     "data": {
      "text/plain": "877.9998740935835"
     },
     "execution_count": 48,
     "metadata": {},
     "output_type": "execute_result"
    }
   ],
   "source": [
    "principal/(1+(2.605/100*1/12))**len(obs_dates)"
   ],
   "metadata": {
    "collapsed": false
   }
  },
  {
   "cell_type": "code",
   "execution_count": null,
   "outputs": [],
   "source": [],
   "metadata": {
    "collapsed": false
   }
  }
 ],
 "metadata": {
  "kernelspec": {
   "display_name": "Python 3",
   "language": "python",
   "name": "python3"
  },
  "language_info": {
   "codemirror_mode": {
    "name": "ipython",
    "version": 2
   },
   "file_extension": ".py",
   "mimetype": "text/x-python",
   "name": "python",
   "nbconvert_exporter": "python",
   "pygments_lexer": "ipython2",
   "version": "2.7.6"
  }
 },
 "nbformat": 4,
 "nbformat_minor": 0
}
